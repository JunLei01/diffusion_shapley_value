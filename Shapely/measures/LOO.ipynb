{
 "cells": [
  {
   "cell_type": "code",
   "execution_count": 1,
   "outputs": [],
   "source": [
    "import ast\n",
    "import pandas as pd\n",
    "from pathlib import Path\n",
    "import matplotlib.pyplot as plt"
   ],
   "metadata": {
    "collapsed": false
   }
  },
  {
   "cell_type": "code",
   "execution_count": 2,
   "outputs": [
    {
     "data": {
      "text/plain": "Text(0.4, 0.4, '$\\\\phi_i(v) := U_{A,D_{val}}(D)-U_{A,D_{val}}(D/\\\\{z\\\\})$')"
     },
     "execution_count": 2,
     "metadata": {},
     "output_type": "execute_result"
    },
    {
     "data": {
      "text/plain": "<Figure size 640x480 with 1 Axes>",
      "image/png": "[encoded data removed]"
     },
     "metadata": {},
     "output_type": "display_data"
    }
   ],
   "source": [
    "\n",
    "##### LOO Value Formula #####\n",
    "\n",
    "a = r'\\phi_i(v) := U_{A,D_{val}}(D)-U_{A,D_{val}}(D/\\{z\\})'\n",
    "ax = plt.axes([0,0,0.3,0.3]) #left,bottom,width,height\n",
    "ax.set_xticks([])\n",
    "ax.set_yticks([])\n",
    "ax.axis('off')\n",
    "plt.text(0.4,0.4,'$%s$' %a,size=30)"
   ],
   "metadata": {
    "collapsed": false
   }
  },
  {
   "cell_type": "code",
   "execution_count": 3,
   "outputs": [
    {
     "data": {
      "text/plain": "             no.                                            element      SSIM  \\\n0  mona_lisa_g10  stablydiffusedsMagnum__ v10,controlNet,da Leon...  0.045524   \n1   mona_lisa_g5  stableDiffusion-pruned-v-1-5,controlNet,da Leo...  0.094943   \n2   mona_lisa_g6  stableDiffusion-pruned-v-1-5,controlNet,da Leo...  0.097085   \n3   mona_lisa_g7  stableDiffusion-pruned-v-1-5,controlNet,da Leo...  0.097019   \n4   mona_lisa_g8  stableDiffusion-pruned-v-1-5,controlNet,mona_l...  0.035946   \n5   mona_lisa_g9  stableDiffusion-pruned-v-1-5,da Leonardo da vi...  0.060659   \n\n      Cosin  Histogram  DHash   RGBSSIM         FID  \n0  0.857449   4.169434      9  0.971706  180.413378  \n1  0.822053   6.391890     17  0.936643  246.351725  \n2  0.908829   5.800169     15  0.996269  227.704668  \n3  0.821175   6.271106     16  0.932389  258.003671  \n4  0.873655   7.655917     24  0.976944  294.336787  \n5  0.889124   3.627409     21  0.947707  245.534335  ",
      "text/html": "<div>\n<style scoped>\n    .dataframe tbody tr th:only-of-type {\n        vertical-align: middle;\n    }\n\n    .dataframe tbody tr th {\n        vertical-align: top;\n    }\n\n    .dataframe thead th {\n        text-align: right;\n    }\n</style>\n<table border=\"1\" class=\"dataframe\">\n  <thead>\n    <tr style=\"text-align: right;\">\n      <th></th>\n      <th>no.</th>\n      <th>element</th>\n      <th>SSIM</th>\n      <th>Cosin</th>\n      <th>Histogram</th>\n      <th>DHash</th>\n      <th>RGBSSIM</th>\n      <th>FID</th>\n    </tr>\n  </thead>\n  <tbody>\n    <tr>\n      <th>0</th>\n      <td>mona_lisa_g10</td>\n      <td>stablydiffusedsMagnum__ v10,controlNet,da Leon...</td>\n      <td>0.045524</td>\n      <td>0.857449</td>\n      <td>4.169434</td>\n      <td>9</td>\n      <td>0.971706</td>\n      <td>180.413378</td>\n    </tr>\n    <tr>\n      <th>1</th>\n      <td>mona_lisa_g5</td>\n      <td>stableDiffusion-pruned-v-1-5,controlNet,da Leo...</td>\n      <td>0.094943</td>\n      <td>0.822053</td>\n      <td>6.391890</td>\n      <td>17</td>\n      <td>0.936643</td>\n      <td>246.351725</td>\n    </tr>\n    <tr>\n      <th>2</th>\n      <td>mona_lisa_g6</td>\n      <td>stableDiffusion-pruned-v-1-5,controlNet,da Leo...</td>\n      <td>0.097085</td>\n      <td>0.908829</td>\n      <td>5.800169</td>\n      <td>15</td>\n      <td>0.996269</td>\n      <td>227.704668</td>\n    </tr>\n    <tr>\n      <th>3</th>\n      <td>mona_lisa_g7</td>\n      <td>stableDiffusion-pruned-v-1-5,controlNet,da Leo...</td>\n      <td>0.097019</td>\n      <td>0.821175</td>\n      <td>6.271106</td>\n      <td>16</td>\n      <td>0.932389</td>\n      <td>258.003671</td>\n    </tr>\n    <tr>\n      <th>4</th>\n      <td>mona_lisa_g8</td>\n      <td>stableDiffusion-pruned-v-1-5,controlNet,mona_l...</td>\n      <td>0.035946</td>\n      <td>0.873655</td>\n      <td>7.655917</td>\n      <td>24</td>\n      <td>0.976944</td>\n      <td>294.336787</td>\n    </tr>\n    <tr>\n      <th>5</th>\n      <td>mona_lisa_g9</td>\n      <td>stableDiffusion-pruned-v-1-5,da Leonardo da vi...</td>\n      <td>0.060659</td>\n      <td>0.889124</td>\n      <td>3.627409</td>\n      <td>21</td>\n      <td>0.947707</td>\n      <td>245.534335</td>\n    </tr>\n  </tbody>\n</table>\n</div>"
     },
     "execution_count": 3,
     "metadata": {},
     "output_type": "execute_result"
    }
   ],
   "source": [
    "data_path = 'D:/MyGraduate/code/diffusion_shapely_value/data/LOO_compositions_orsize.csv'\n",
    "data_path_resolve = Path(data_path).resolve()\n",
    "data_raw = pd.read_csv(data_path_resolve)\n",
    "data_raw"
   ],
   "metadata": {
    "collapsed": false
   }
  },
  {
   "cell_type": "code",
   "execution_count": 4,
   "outputs": [
    {
     "data": {
      "text/plain": "                                             element         FID       PFID\n0  stablydiffusedsMagnum__ v10,controlNet,da Leon...  180.413378 -65.938347\n1  stableDiffusion-pruned-v-1-5,controlNet,da Leo...  246.351725   0.000000\n2  stableDiffusion-pruned-v-1-5,controlNet,da Leo...  227.704668 -18.647057\n3  stableDiffusion-pruned-v-1-5,controlNet,da Leo...  258.003671  11.651946\n4  stableDiffusion-pruned-v-1-5,controlNet,mona_l...  294.336787  47.985062\n5  stableDiffusion-pruned-v-1-5,da Leonardo da vi...  245.534335  -0.817389",
      "text/html": "<div>\n<style scoped>\n    .dataframe tbody tr th:only-of-type {\n        vertical-align: middle;\n    }\n\n    .dataframe tbody tr th {\n        vertical-align: top;\n    }\n\n    .dataframe thead th {\n        text-align: right;\n    }\n</style>\n<table border=\"1\" class=\"dataframe\">\n  <thead>\n    <tr style=\"text-align: right;\">\n      <th></th>\n      <th>element</th>\n      <th>FID</th>\n      <th>PFID</th>\n    </tr>\n  </thead>\n  <tbody>\n    <tr>\n      <th>0</th>\n      <td>stablydiffusedsMagnum__ v10,controlNet,da Leon...</td>\n      <td>180.413378</td>\n      <td>-65.938347</td>\n    </tr>\n    <tr>\n      <th>1</th>\n      <td>stableDiffusion-pruned-v-1-5,controlNet,da Leo...</td>\n      <td>246.351725</td>\n      <td>0.000000</td>\n    </tr>\n    <tr>\n      <th>2</th>\n      <td>stableDiffusion-pruned-v-1-5,controlNet,da Leo...</td>\n      <td>227.704668</td>\n      <td>-18.647057</td>\n    </tr>\n    <tr>\n      <th>3</th>\n      <td>stableDiffusion-pruned-v-1-5,controlNet,da Leo...</td>\n      <td>258.003671</td>\n      <td>11.651946</td>\n    </tr>\n    <tr>\n      <th>4</th>\n      <td>stableDiffusion-pruned-v-1-5,controlNet,mona_l...</td>\n      <td>294.336787</td>\n      <td>47.985062</td>\n    </tr>\n    <tr>\n      <th>5</th>\n      <td>stableDiffusion-pruned-v-1-5,da Leonardo da vi...</td>\n      <td>245.534335</td>\n      <td>-0.817389</td>\n    </tr>\n  </tbody>\n</table>\n</div>"
     },
     "execution_count": 4,
     "metadata": {},
     "output_type": "execute_result"
    }
   ],
   "source": [
    "columns = ['element', 'FID']\n",
    "# columns = ['element', 'DHash']\n",
    "# columns = ['element', 'Histogram']\n",
    "# columns = ['element', 'Cosin']\n",
    "data = data_raw[columns].copy()\n",
    "\n",
    "def add_start_absorbing_state_func(conversion, path):\n",
    "    path = ast.literal_eval(path)\n",
    "\n",
    "    return path\n",
    "\n",
    "def get_pure_ssim_func(value, models_value, x):\n",
    "    return value - models_value\n",
    "\n",
    "\n",
    "# data['combinations'] = data.apply(lambda x: add_start_absorbing_state_func(x['SSIM'], x['element']), axis = 1)\n",
    "\n",
    "data['PFID'] = data.apply(lambda x: get_pure_ssim_func(x['FID'], data['FID'][1], x), axis = 1)\n",
    "# data['PDHash'] = data.apply(lambda x: get_pure_ssim_func(x['DHash'], data['DHash'][0], x), axis = 1)\n",
    "# data['PHistogram'] = data.apply(lambda x: get_pure_ssim_func(x['Histogram'], data['Histogram'][0], x), axis = 1)\n",
    "# data['PCosin'] = data.apply(lambda x: get_pure_ssim_func(x['Cosin'], data['Cosin'][0], x), axis = 1)\n",
    "data"
   ],
   "metadata": {
    "collapsed": false
   }
  },
  {
   "cell_type": "code",
   "execution_count": 5,
   "outputs": [
    {
     "data": {
      "text/plain": "                                             element       PFID\n0  stableDiffusion-pruned-v-1-5,controlNet,da Leo...  11.651946\n1  stableDiffusion-pruned-v-1-5,controlNet,da Leo... -18.647057\n2  stableDiffusion-pruned-v-1-5,controlNet,da Leo...   0.000000\n3  stableDiffusion-pruned-v-1-5,controlNet,mona_l...  47.985062\n4  stableDiffusion-pruned-v-1-5,da Leonardo da vi...  -0.817389\n5  stablydiffusedsMagnum__ v10,controlNet,da Leon... -65.938347",
      "text/html": "<div>\n<style scoped>\n    .dataframe tbody tr th:only-of-type {\n        vertical-align: middle;\n    }\n\n    .dataframe tbody tr th {\n        vertical-align: top;\n    }\n\n    .dataframe thead th {\n        text-align: right;\n    }\n</style>\n<table border=\"1\" class=\"dataframe\">\n  <thead>\n    <tr style=\"text-align: right;\">\n      <th></th>\n      <th>element</th>\n      <th>PFID</th>\n    </tr>\n  </thead>\n  <tbody>\n    <tr>\n      <th>0</th>\n      <td>stableDiffusion-pruned-v-1-5,controlNet,da Leo...</td>\n      <td>11.651946</td>\n    </tr>\n    <tr>\n      <th>1</th>\n      <td>stableDiffusion-pruned-v-1-5,controlNet,da Leo...</td>\n      <td>-18.647057</td>\n    </tr>\n    <tr>\n      <th>2</th>\n      <td>stableDiffusion-pruned-v-1-5,controlNet,da Leo...</td>\n      <td>0.000000</td>\n    </tr>\n    <tr>\n      <th>3</th>\n      <td>stableDiffusion-pruned-v-1-5,controlNet,mona_l...</td>\n      <td>47.985062</td>\n    </tr>\n    <tr>\n      <th>4</th>\n      <td>stableDiffusion-pruned-v-1-5,da Leonardo da vi...</td>\n      <td>-0.817389</td>\n    </tr>\n    <tr>\n      <th>5</th>\n      <td>stablydiffusedsMagnum__ v10,controlNet,da Leon...</td>\n      <td>-65.938347</td>\n    </tr>\n  </tbody>\n</table>\n</div>"
     },
     "execution_count": 5,
     "metadata": {},
     "output_type": "execute_result"
    }
   ],
   "source": [
    "data_lvl1 = data[['element', 'PFID']].sort_values(by=['PFID'])\n",
    "# data_lvl1 = data[['element', 'PDHash']].sort_values(by=['PDHash'])\n",
    "# data_lvl1 = data[['element', 'PHistogram']].sort_values(by=['PHistogram'])\n",
    "# data_lvl1 = data[['element', 'PCosin']].sort_values(by=['PCosin'])\n",
    "# second level - groupby userid, concat distinct marketing channel and label if any conversion took place with this channel mix\n",
    "data_lvl2 = data_lvl1.groupby(['element'], as_index=False).agg(\n",
    "    {'element': lambda x: ','.join(map(str, x.unique())),\n",
    "     'PFID': max})\n",
    "# data_lvl2 = data_lvl1.groupby(['element'], as_index=False).agg(\n",
    "#     {'element': lambda x: ','.join(map(str, x.unique())),\n",
    "#      'PDHash': max})\n",
    "# data_lvl2 = data_lvl1.groupby(['element'], as_index=False).agg(\n",
    "#     {'element': lambda x: ','.join(map(str, x.unique())),\n",
    "#      'PHistogram': max})\n",
    "# data_lvl2 = data_lvl1.groupby(['element'], as_index=False).agg(\n",
    "#     {'element': lambda x: ','.join(map(str, x.unique())),\n",
    "#      'PCosin': max})\n",
    "\n",
    "data_lvl2"
   ],
   "metadata": {
    "collapsed": false
   }
  },
  {
   "cell_type": "code",
   "execution_count": 6,
   "outputs": [],
   "source": [
    "def find_row(df, chanel_name, conv_name):\n",
    "\n",
    "    for index, data_row in df.iterrows():\n",
    "        if data_row[conv_name] == 0:\n",
    "            elements = str(data_row[chanel_name])\n",
    "            ele_list = elements.split(\",\")\n",
    "            return ele_list"
   ],
   "metadata": {
    "collapsed": false
   }
  },
  {
   "cell_type": "code",
   "execution_count": 7,
   "outputs": [],
   "source": [
    "def calculate_LOO(df, chanel_name, conv_name):\n",
    "    ele_list1 = find_row(df, chanel_name, conv_name)\n",
    "    print(ele_list1)\n",
    "    for index, data_row in df.iterrows():\n",
    "        if data_row[conv_name] != 0:\n",
    "            elements2 = str(data_row[chanel_name])\n",
    "            ele_list2 = elements2.split(\",\")\n",
    "            print(ele_list2)\n",
    "            attribute_key = list(set(ele_list2).difference(set(ele_list1)))\n",
    "            attribute_value = -data_row[conv_name]\n",
    "            print(attribute_key, attribute_value)\n",
    "            # print(attribute_key, attribute_value)"
   ],
   "metadata": {
    "collapsed": false
   }
  },
  {
   "cell_type": "code",
   "execution_count": 8,
   "outputs": [
    {
     "name": "stdout",
     "output_type": "stream",
     "text": [
      "['stableDiffusion-pruned-v-1-5', 'controlNet', 'da Leonardo da vinci', 'mona_lisa', 'Lora:wjqLeonardo:1']\n",
      "['stableDiffusion-pruned-v-1-5', 'controlNet', 'da Leonardo da vinci', 'Lora:wjqLeonardo:1']\n",
      "[] -11.651945924954873\n",
      "['stableDiffusion-pruned-v-1-5', 'controlNet', 'da Leonardo da vinci', 'mona_lisa']\n",
      "[] 18.647057093394523\n",
      "['stableDiffusion-pruned-v-1-5', 'controlNet', 'mona_lisa', 'Lora:wjqLeonardo:1']\n",
      "[] -47.985061962512304\n",
      "['stableDiffusion-pruned-v-1-5', 'da Leonardo da vinci', 'mona_lisa', 'Lora:wjqLeonardo:1']\n",
      "[] 0.8173894770882839\n",
      "['stablydiffusedsMagnum__ v10', 'controlNet', 'da Leonardo da vinci', 'mona_lisa', 'Lora:wjqLeonardo:1']\n",
      "['stablydiffusedsMagnum__ v10'] 65.93834698128208\n"
     ]
    }
   ],
   "source": [
    "\n",
    "LOO_dict = calculate_LOO(data_lvl2, 'element', 'PFID')\n",
    "\n",
    "LOO_dict"
   ],
   "metadata": {
    "collapsed": false
   }
  }
 ],
 "metadata": {
  "kernelspec": {
   "display_name": "Python 3",
   "language": "python",
   "name": "python3"
  },
  "language_info": {
   "codemirror_mode": {
    "name": "ipython",
    "version": 2
   },
   "file_extension": ".py",
   "mimetype": "text/x-python",
   "name": "python",
   "nbconvert_exporter": "python",
   "pygments_lexer": "ipython2",
   "version": "2.7.6"
  }
 },
 "nbformat": 4,
 "nbformat_minor": 0
}
