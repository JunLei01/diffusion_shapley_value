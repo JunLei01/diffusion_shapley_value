{
 "cells": [
  {
   "cell_type": "code",
   "execution_count": 1,
   "metadata": {
    "collapsed": false,
    "ExecuteTime": {
     "end_time": "2023-12-06T08:29:01.965322500Z",
     "start_time": "2023-12-06T08:29:01.928787100Z"
    }
   },
   "outputs": [],
   "source": [
    "# !pip install pandas\n",
    "# !pip install plotly"
   ]
  },
  {
   "cell_type": "code",
   "execution_count": 2,
   "outputs": [],
   "source": [
    "import ast\n",
    "import itertools\n",
    "from pathlib import Path\n",
    "from collections import defaultdict\n",
    "from itertools import combinations, permutations\n",
    "\n",
    "import numpy as np\n",
    "import pandas as pd\n",
    "import matplotlib.pyplot as plt\n",
    "import seaborn as sns"
   ],
   "metadata": {
    "collapsed": false,
    "ExecuteTime": {
     "end_time": "2023-12-06T08:29:01.970956100Z",
     "start_time": "2023-12-06T08:29:01.948294100Z"
    }
   }
  },
  {
   "cell_type": "code",
   "execution_count": 3,
   "metadata": {
    "collapsed": false,
    "ExecuteTime": {
     "end_time": "2023-12-06T08:29:02.866816Z",
     "start_time": "2023-12-06T08:29:01.958812500Z"
    }
   },
   "outputs": [
    {
     "data": {
      "text/plain": "Text(0.4, 0.4, '$\\\\phi_{i}(v) :=  \\\\sum_{S \\\\subseteq N\\\\backslash i}    \\\\frac{|S|!(n-|S|-1)!}{n!} (v(S\\\\cup\\\\{i\\\\}) - v(S))$')"
     },
     "execution_count": 3,
     "metadata": {},
     "output_type": "execute_result"
    },
    {
     "data": {
      "text/plain": "<Figure size 640x480 with 1 Axes>",
      "image/png": "[encoded data removed]"
     },
     "metadata": {},
     "output_type": "display_data"
    }
   ],
   "source": [
    "##### Shapely Value Formula #####\n",
    "\n",
    "a = r'\\phi_{i}(v) :=  \\sum_{S \\subseteq N\\backslash i}    \\frac{|S|!(n-|S|-1)!}{n!} (v(S\\cup\\{i\\}) - v(S))'\n",
    "ax = plt.axes([0,0,0.3,0.3]) #left,bottom,width,height\n",
    "ax.set_xticks([])\n",
    "ax.set_yticks([])\n",
    "ax.axis('off')\n",
    "plt.text(0.4,0.4,'$%s$' %a,size=30)"
   ]
  },
  {
   "cell_type": "code",
   "execution_count": 5,
   "outputs": [
    {
     "data": {
      "text/plain": "              no.                                            element  \\\n0    mona_lisa_g1                       stableDiffusion-pruned-v-1-5   \n1    mona_lisa_g2                                         controlNet   \n2    mona_lisa_g3                    controlNet,da Leonardo da vinci   \n3    mona_lisa_g4          controlNet,da Leonardo da vinci,mona_lisa   \n4    mona_lisa_g5  controlNet,da Leonardo da vinci,mona_lisa,Lora...   \n5    mona_lisa_g6                               da Leonardo da vinci   \n6    mona_lisa_g7                     da Leonardo da vinci,mona_lisa   \n7    mona_lisa_g8  da Leonardo da vinci,mona_lisa,Lora:wjqLeonardo:1   \n8    mona_lisa_g9                                          mona_lisa   \n9   mona_lisa_g10                       mona_lisa,Lora:wjqLeonardo:1   \n10  mona_lisa_g11                                 Lora:wjqLeonardo:1   \n11  mona_lisa_g12                        stablydiffusedsMagnum__ v10   \n12  mona_lisa_g13             stablydiffusedsMagnum__ v10,controlNet   \n13  mona_lisa_g14  stablydiffusedsMagnum__ v10,controlNet,da Leon...   \n14  mona_lisa_g15  stablydiffusedsMagnum__ v10,controlNet,da Leon...   \n15  mona_lisa_g16  stablydiffusedsMagnum__ v10,controlNet,da Leon...   \n\n             FID  \n0   8.215650e-17  \n1   8.798517e-17  \n2  -9.200973e-17  \n3   4.773959e-17  \n4  -1.065814e-16  \n5  -1.015854e-16  \n6  -1.981748e-16  \n7  -3.719247e-17  \n8  -1.101896e-16  \n9   2.636780e-17  \n10  2.419939e-16  \n11 -1.798561e-16  \n12 -1.688927e-16  \n13 -3.774758e-17  \n14  4.773959e-17  \n15  8.798517e-17  ",
      "text/html": "<div>\n<style scoped>\n    .dataframe tbody tr th:only-of-type {\n        vertical-align: middle;\n    }\n\n    .dataframe tbody tr th {\n        vertical-align: top;\n    }\n\n    .dataframe thead th {\n        text-align: right;\n    }\n</style>\n<table border=\"1\" class=\"dataframe\">\n  <thead>\n    <tr style=\"text-align: right;\">\n      <th></th>\n      <th>no.</th>\n      <th>element</th>\n      <th>FID</th>\n    </tr>\n  </thead>\n  <tbody>\n    <tr>\n      <th>0</th>\n      <td>mona_lisa_g1</td>\n      <td>stableDiffusion-pruned-v-1-5</td>\n      <td>8.215650e-17</td>\n    </tr>\n    <tr>\n      <th>1</th>\n      <td>mona_lisa_g2</td>\n      <td>controlNet</td>\n      <td>8.798517e-17</td>\n    </tr>\n    <tr>\n      <th>2</th>\n      <td>mona_lisa_g3</td>\n      <td>controlNet,da Leonardo da vinci</td>\n      <td>-9.200973e-17</td>\n    </tr>\n    <tr>\n      <th>3</th>\n      <td>mona_lisa_g4</td>\n      <td>controlNet,da Leonardo da vinci,mona_lisa</td>\n      <td>4.773959e-17</td>\n    </tr>\n    <tr>\n      <th>4</th>\n      <td>mona_lisa_g5</td>\n      <td>controlNet,da Leonardo da vinci,mona_lisa,Lora...</td>\n      <td>-1.065814e-16</td>\n    </tr>\n    <tr>\n      <th>5</th>\n      <td>mona_lisa_g6</td>\n      <td>da Leonardo da vinci</td>\n      <td>-1.015854e-16</td>\n    </tr>\n    <tr>\n      <th>6</th>\n      <td>mona_lisa_g7</td>\n      <td>da Leonardo da vinci,mona_lisa</td>\n      <td>-1.981748e-16</td>\n    </tr>\n    <tr>\n      <th>7</th>\n      <td>mona_lisa_g8</td>\n      <td>da Leonardo da vinci,mona_lisa,Lora:wjqLeonardo:1</td>\n      <td>-3.719247e-17</td>\n    </tr>\n    <tr>\n      <th>8</th>\n      <td>mona_lisa_g9</td>\n      <td>mona_lisa</td>\n      <td>-1.101896e-16</td>\n    </tr>\n    <tr>\n      <th>9</th>\n      <td>mona_lisa_g10</td>\n      <td>mona_lisa,Lora:wjqLeonardo:1</td>\n      <td>2.636780e-17</td>\n    </tr>\n    <tr>\n      <th>10</th>\n      <td>mona_lisa_g11</td>\n      <td>Lora:wjqLeonardo:1</td>\n      <td>2.419939e-16</td>\n    </tr>\n    <tr>\n      <th>11</th>\n      <td>mona_lisa_g12</td>\n      <td>stablydiffusedsMagnum__ v10</td>\n      <td>-1.798561e-16</td>\n    </tr>\n    <tr>\n      <th>12</th>\n      <td>mona_lisa_g13</td>\n      <td>stablydiffusedsMagnum__ v10,controlNet</td>\n      <td>-1.688927e-16</td>\n    </tr>\n    <tr>\n      <th>13</th>\n      <td>mona_lisa_g14</td>\n      <td>stablydiffusedsMagnum__ v10,controlNet,da Leon...</td>\n      <td>-3.774758e-17</td>\n    </tr>\n    <tr>\n      <th>14</th>\n      <td>mona_lisa_g15</td>\n      <td>stablydiffusedsMagnum__ v10,controlNet,da Leon...</td>\n      <td>4.773959e-17</td>\n    </tr>\n    <tr>\n      <th>15</th>\n      <td>mona_lisa_g16</td>\n      <td>stablydiffusedsMagnum__ v10,controlNet,da Leon...</td>\n      <td>8.798517e-17</td>\n    </tr>\n  </tbody>\n</table>\n</div>"
     },
     "execution_count": 5,
     "metadata": {},
     "output_type": "execute_result"
    }
   ],
   "source": [
    "### reading in datasetD:\\MyGraduate\\paper\\WWW\\diffusion_shapely_value\\data\\compositions.csv\n",
    "data_path = 'D:\\MyGraduate\\paper\\WWW\\diffusion_shapely_value\\data\\compositions.csv'\n",
    "data_path_resolve = Path(data_path).resolve()\n",
    "data_raw = pd.read_csv(data_path_resolve)\n",
    "data_raw"
   ],
   "metadata": {
    "collapsed": false,
    "ExecuteTime": {
     "end_time": "2023-12-06T08:30:03.959733900Z",
     "start_time": "2023-12-06T08:30:03.790404700Z"
    }
   }
  },
  {
   "cell_type": "code",
   "execution_count": 6,
   "outputs": [
    {
     "data": {
      "text/plain": "                                              element           FID  \\\n0                        stableDiffusion-pruned-v-1-5  8.215650e-17   \n1                                          controlNet  8.798517e-17   \n2                     controlNet,da Leonardo da vinci -9.200973e-17   \n3           controlNet,da Leonardo da vinci,mona_lisa  4.773959e-17   \n4   controlNet,da Leonardo da vinci,mona_lisa,Lora... -1.065814e-16   \n5                                da Leonardo da vinci -1.015854e-16   \n6                      da Leonardo da vinci,mona_lisa -1.981748e-16   \n7   da Leonardo da vinci,mona_lisa,Lora:wjqLeonardo:1 -3.719247e-17   \n8                                           mona_lisa -1.101896e-16   \n9                        mona_lisa,Lora:wjqLeonardo:1  2.636780e-17   \n10                                 Lora:wjqLeonardo:1  2.419939e-16   \n11                        stablydiffusedsMagnum__ v10 -1.798561e-16   \n12             stablydiffusedsMagnum__ v10,controlNet -1.688927e-16   \n13  stablydiffusedsMagnum__ v10,controlNet,da Leon... -3.774758e-17   \n14  stablydiffusedsMagnum__ v10,controlNet,da Leon...  4.773959e-17   \n15  stablydiffusedsMagnum__ v10,controlNet,da Leon...  8.798517e-17   \n\n            PFID  \n0   0.000000e+00  \n1   5.828671e-18  \n2  -1.741662e-16  \n3  -3.441691e-17  \n4  -1.887379e-16  \n5  -1.837419e-16  \n6  -2.803313e-16  \n7  -1.193490e-16  \n8  -1.923461e-16  \n9  -5.578871e-17  \n10  1.598374e-16  \n11 -2.620126e-16  \n12 -2.510492e-16  \n13 -1.199041e-16  \n14 -3.441691e-17  \n15  5.828671e-18  ",
      "text/html": "<div>\n<style scoped>\n    .dataframe tbody tr th:only-of-type {\n        vertical-align: middle;\n    }\n\n    .dataframe tbody tr th {\n        vertical-align: top;\n    }\n\n    .dataframe thead th {\n        text-align: right;\n    }\n</style>\n<table border=\"1\" class=\"dataframe\">\n  <thead>\n    <tr style=\"text-align: right;\">\n      <th></th>\n      <th>element</th>\n      <th>FID</th>\n      <th>PFID</th>\n    </tr>\n  </thead>\n  <tbody>\n    <tr>\n      <th>0</th>\n      <td>stableDiffusion-pruned-v-1-5</td>\n      <td>8.215650e-17</td>\n      <td>0.000000e+00</td>\n    </tr>\n    <tr>\n      <th>1</th>\n      <td>controlNet</td>\n      <td>8.798517e-17</td>\n      <td>5.828671e-18</td>\n    </tr>\n    <tr>\n      <th>2</th>\n      <td>controlNet,da Leonardo da vinci</td>\n      <td>-9.200973e-17</td>\n      <td>-1.741662e-16</td>\n    </tr>\n    <tr>\n      <th>3</th>\n      <td>controlNet,da Leonardo da vinci,mona_lisa</td>\n      <td>4.773959e-17</td>\n      <td>-3.441691e-17</td>\n    </tr>\n    <tr>\n      <th>4</th>\n      <td>controlNet,da Leonardo da vinci,mona_lisa,Lora...</td>\n      <td>-1.065814e-16</td>\n      <td>-1.887379e-16</td>\n    </tr>\n    <tr>\n      <th>5</th>\n      <td>da Leonardo da vinci</td>\n      <td>-1.015854e-16</td>\n      <td>-1.837419e-16</td>\n    </tr>\n    <tr>\n      <th>6</th>\n      <td>da Leonardo da vinci,mona_lisa</td>\n      <td>-1.981748e-16</td>\n      <td>-2.803313e-16</td>\n    </tr>\n    <tr>\n      <th>7</th>\n      <td>da Leonardo da vinci,mona_lisa,Lora:wjqLeonardo:1</td>\n      <td>-3.719247e-17</td>\n      <td>-1.193490e-16</td>\n    </tr>\n    <tr>\n      <th>8</th>\n      <td>mona_lisa</td>\n      <td>-1.101896e-16</td>\n      <td>-1.923461e-16</td>\n    </tr>\n    <tr>\n      <th>9</th>\n      <td>mona_lisa,Lora:wjqLeonardo:1</td>\n      <td>2.636780e-17</td>\n      <td>-5.578871e-17</td>\n    </tr>\n    <tr>\n      <th>10</th>\n      <td>Lora:wjqLeonardo:1</td>\n      <td>2.419939e-16</td>\n      <td>1.598374e-16</td>\n    </tr>\n    <tr>\n      <th>11</th>\n      <td>stablydiffusedsMagnum__ v10</td>\n      <td>-1.798561e-16</td>\n      <td>-2.620126e-16</td>\n    </tr>\n    <tr>\n      <th>12</th>\n      <td>stablydiffusedsMagnum__ v10,controlNet</td>\n      <td>-1.688927e-16</td>\n      <td>-2.510492e-16</td>\n    </tr>\n    <tr>\n      <th>13</th>\n      <td>stablydiffusedsMagnum__ v10,controlNet,da Leon...</td>\n      <td>-3.774758e-17</td>\n      <td>-1.199041e-16</td>\n    </tr>\n    <tr>\n      <th>14</th>\n      <td>stablydiffusedsMagnum__ v10,controlNet,da Leon...</td>\n      <td>4.773959e-17</td>\n      <td>-3.441691e-17</td>\n    </tr>\n    <tr>\n      <th>15</th>\n      <td>stablydiffusedsMagnum__ v10,controlNet,da Leon...</td>\n      <td>8.798517e-17</td>\n      <td>5.828671e-18</td>\n    </tr>\n  </tbody>\n</table>\n</div>"
     },
     "execution_count": 6,
     "metadata": {},
     "output_type": "execute_result"
    }
   ],
   "source": [
    "columns = ['element', 'FID']\n",
    "# columns = ['element', 'DHash']\n",
    "# columns = ['element', 'Histogram']\n",
    "# columns = ['element', 'Cosin']\n",
    "data = data_raw[columns].copy()\n",
    "\n",
    "def add_start_absorbing_state_func(conversion, path):\n",
    "    path = ast.literal_eval(path)\n",
    "\n",
    "    return path\n",
    "\n",
    "def get_pure_ssim_func(value, models_value, x):\n",
    "    return value - models_value\n",
    "\n",
    "\n",
    "# data['combinations'] = data.apply(lambda x: add_start_absorbing_state_func(x['SSIM'], x['element']), axis = 1)\n",
    "\n",
    "data['PFID'] = data.apply(lambda x: get_pure_ssim_func(x['FID'], data['FID'][0], x), axis = 1)\n",
    "# data['PDHash'] = data.apply(lambda x: get_pure_ssim_func(x['DHash'], data['DHash'][0], x), axis = 1)\n",
    "# data['PHistogram'] = data.apply(lambda x: get_pure_ssim_func(x['Histogram'], data['Histogram'][0], x), axis = 1)\n",
    "# data['PCosin'] = data.apply(lambda x: get_pure_ssim_func(x['Cosin'], data['Cosin'][0], x), axis = 1)\n",
    "data"
   ],
   "metadata": {
    "collapsed": false,
    "ExecuteTime": {
     "end_time": "2023-12-06T08:30:08.022920600Z",
     "start_time": "2023-12-06T08:30:07.996407100Z"
    }
   }
  },
  {
   "cell_type": "code",
   "execution_count": 7,
   "outputs": [
    {
     "data": {
      "text/plain": "                                              element          PFID\n0                                  Lora:wjqLeonardo:1  1.598374e-16\n1                                          controlNet  5.828671e-18\n2                     controlNet,da Leonardo da vinci -1.741662e-16\n3           controlNet,da Leonardo da vinci,mona_lisa -3.441691e-17\n4   controlNet,da Leonardo da vinci,mona_lisa,Lora... -1.887379e-16\n5                                da Leonardo da vinci -1.837419e-16\n6                      da Leonardo da vinci,mona_lisa -2.803313e-16\n7   da Leonardo da vinci,mona_lisa,Lora:wjqLeonardo:1 -1.193490e-16\n8                                           mona_lisa -1.923461e-16\n9                        mona_lisa,Lora:wjqLeonardo:1 -5.578871e-17\n10                       stableDiffusion-pruned-v-1-5  0.000000e+00\n11                        stablydiffusedsMagnum__ v10 -2.620126e-16\n12             stablydiffusedsMagnum__ v10,controlNet -2.510492e-16\n13  stablydiffusedsMagnum__ v10,controlNet,da Leon... -1.199041e-16\n14  stablydiffusedsMagnum__ v10,controlNet,da Leon... -3.441691e-17\n15  stablydiffusedsMagnum__ v10,controlNet,da Leon...  5.828671e-18",
      "text/html": "<div>\n<style scoped>\n    .dataframe tbody tr th:only-of-type {\n        vertical-align: middle;\n    }\n\n    .dataframe tbody tr th {\n        vertical-align: top;\n    }\n\n    .dataframe thead th {\n        text-align: right;\n    }\n</style>\n<table border=\"1\" class=\"dataframe\">\n  <thead>\n    <tr style=\"text-align: right;\">\n      <th></th>\n      <th>element</th>\n      <th>PFID</th>\n    </tr>\n  </thead>\n  <tbody>\n    <tr>\n      <th>0</th>\n      <td>Lora:wjqLeonardo:1</td>\n      <td>1.598374e-16</td>\n    </tr>\n    <tr>\n      <th>1</th>\n      <td>controlNet</td>\n      <td>5.828671e-18</td>\n    </tr>\n    <tr>\n      <th>2</th>\n      <td>controlNet,da Leonardo da vinci</td>\n      <td>-1.741662e-16</td>\n    </tr>\n    <tr>\n      <th>3</th>\n      <td>controlNet,da Leonardo da vinci,mona_lisa</td>\n      <td>-3.441691e-17</td>\n    </tr>\n    <tr>\n      <th>4</th>\n      <td>controlNet,da Leonardo da vinci,mona_lisa,Lora...</td>\n      <td>-1.887379e-16</td>\n    </tr>\n    <tr>\n      <th>5</th>\n      <td>da Leonardo da vinci</td>\n      <td>-1.837419e-16</td>\n    </tr>\n    <tr>\n      <th>6</th>\n      <td>da Leonardo da vinci,mona_lisa</td>\n      <td>-2.803313e-16</td>\n    </tr>\n    <tr>\n      <th>7</th>\n      <td>da Leonardo da vinci,mona_lisa,Lora:wjqLeonardo:1</td>\n      <td>-1.193490e-16</td>\n    </tr>\n    <tr>\n      <th>8</th>\n      <td>mona_lisa</td>\n      <td>-1.923461e-16</td>\n    </tr>\n    <tr>\n      <th>9</th>\n      <td>mona_lisa,Lora:wjqLeonardo:1</td>\n      <td>-5.578871e-17</td>\n    </tr>\n    <tr>\n      <th>10</th>\n      <td>stableDiffusion-pruned-v-1-5</td>\n      <td>0.000000e+00</td>\n    </tr>\n    <tr>\n      <th>11</th>\n      <td>stablydiffusedsMagnum__ v10</td>\n      <td>-2.620126e-16</td>\n    </tr>\n    <tr>\n      <th>12</th>\n      <td>stablydiffusedsMagnum__ v10,controlNet</td>\n      <td>-2.510492e-16</td>\n    </tr>\n    <tr>\n      <th>13</th>\n      <td>stablydiffusedsMagnum__ v10,controlNet,da Leon...</td>\n      <td>-1.199041e-16</td>\n    </tr>\n    <tr>\n      <th>14</th>\n      <td>stablydiffusedsMagnum__ v10,controlNet,da Leon...</td>\n      <td>-3.441691e-17</td>\n    </tr>\n    <tr>\n      <th>15</th>\n      <td>stablydiffusedsMagnum__ v10,controlNet,da Leon...</td>\n      <td>5.828671e-18</td>\n    </tr>\n  </tbody>\n</table>\n</div>"
     },
     "execution_count": 7,
     "metadata": {},
     "output_type": "execute_result"
    }
   ],
   "source": [
    "data_lvl1 = data[['element', 'PFID']].sort_values(by=['PFID'])\n",
    "# data_lvl1 = data[['element', 'PDHash']].sort_values(by=['PDHash'])\n",
    "# data_lvl1 = data[['element', 'PHistogram']].sort_values(by=['PHistogram'])\n",
    "# data_lvl1 = data[['element', 'PCosin']].sort_values(by=['PCosin'])\n",
    "# second level - groupby userid, concat distinct marketing channel and label if any conversion took place with this channel mix\n",
    "data_lvl2 = data_lvl1.groupby(['element'], as_index=False).agg(\n",
    "    {'element': lambda x: ','.join(map(str, x.unique())),\n",
    "     'PFID': max})\n",
    "# data_lvl2 = data_lvl1.groupby(['element'], as_index=False).agg(\n",
    "#     {'element': lambda x: ','.join(map(str, x.unique())),\n",
    "#      'PDHash': max})\n",
    "# data_lvl2 = data_lvl1.groupby(['element'], as_index=False).agg(\n",
    "#     {'element': lambda x: ','.join(map(str, x.unique())),\n",
    "#      'PHistogram': max})\n",
    "# data_lvl2 = data_lvl1.groupby(['element'], as_index=False).agg(\n",
    "#     {'element': lambda x: ','.join(map(str, x.unique())),\n",
    "#      'PCosin': max})\n",
    "\n",
    "data_lvl2"
   ],
   "metadata": {
    "collapsed": false,
    "ExecuteTime": {
     "end_time": "2023-12-06T08:30:11.838692Z",
     "start_time": "2023-12-06T08:30:11.783125900Z"
    }
   }
  },
  {
   "cell_type": "code",
   "execution_count": 8,
   "outputs": [],
   "source": [
    "#### setting up the formulas for shapley value\n",
    "def power_set(List):\n",
    "    PS = [list(j) for i in range(len(List)) for j in itertools.combinations(List, i + 1)]\n",
    "    return PS\n",
    "\n",
    "def factorial(n):\n",
    "    if n == 0:\n",
    "        return 1\n",
    "    else:\n",
    "        return n * factorial(n - 1)\n",
    "\n",
    "def v_function(A, C_values):\n",
    "    '''\n",
    "    This function computes the worth of each coalition.\n",
    "    inputs:\n",
    "            - A : a coalition of channels.\n",
    "            - C_values : A dictionnary containing the number of conversions that each subset of channels has yielded.\n",
    "    '''\n",
    "    subsets_of_A = subsets(A)\n",
    "    worth_of_A = 0\n",
    "    for subset in subsets_of_A:\n",
    "        if subset in C_values:\n",
    "            worth_of_A += C_values[subset]\n",
    "    return worth_of_A\n",
    "\n",
    "\n",
    "def subsets(s):\n",
    "    '''\n",
    "    This function returns all the possible subsets of a set of channels.\n",
    "    input :\n",
    "            - s: a set of channels.\n",
    "    '''\n",
    "    if len(s) == 1:\n",
    "        return s\n",
    "    else:\n",
    "        sub_channels = []\n",
    "        for i in range(1, len(s) + 1):\n",
    "            sub_channels.extend(map(list, itertools.combinations(s, i)))\n",
    "    return list(map(\",\".join, map(sorted, sub_channels)))"
   ],
   "metadata": {
    "collapsed": false,
    "ExecuteTime": {
     "end_time": "2023-12-06T08:30:15.254051800Z",
     "start_time": "2023-12-06T08:30:15.233033500Z"
    }
   }
  },
  {
   "cell_type": "code",
   "execution_count": 9,
   "outputs": [],
   "source": [
    "def calculate_shapley(df, channel_name, conv_name):\n",
    "\n",
    "    # casting the subset into dict, and getting the unique channels\n",
    "    c_values = df.set_index(channel_name).to_dict()[conv_name]\n",
    "    channels = df[channel_name].apply(lambda x: x.split(\",\")).explode().unique()\n",
    "\n",
    "    v_values = {}\n",
    "    for A in power_set(channels):  # generate all possible channel combination\n",
    "        v_values[','.join(sorted(A))] = v_function(A, c_values)\n",
    "    n = len(channels)  # no. of channels\n",
    "    shapley_values = defaultdict(int)\n",
    "\n",
    "    for channel in channels:\n",
    "        for A in v_values.keys():\n",
    "            if channel not in A.split(\",\"):\n",
    "                cardinal_A = len(A.split(\",\"))\n",
    "                A_with_channel = A.split(\",\")\n",
    "                A_with_channel.append(channel)\n",
    "                A_with_channel = \",\".join(sorted(A_with_channel))\n",
    "                weight = (factorial(cardinal_A) * factorial(n - cardinal_A - 1) / factorial(\n",
    "                    n))  # Weight = |S|!(n-|S|-1)!/n!\n",
    "                contrib = (v_values[A_with_channel] - v_values[A])  # Marginal contribution = v(S U {i})-v(S)\n",
    "                shapley_values[channel] += weight * contrib\n",
    "        # Add the term corresponding to the empty set\n",
    "        shapley_values[channel] += v_values[channel] / n\n",
    "\n",
    "    return shapley_values"
   ],
   "metadata": {
    "collapsed": false,
    "ExecuteTime": {
     "end_time": "2023-12-06T08:30:18.968901600Z",
     "start_time": "2023-12-06T08:30:18.938522Z"
    }
   }
  },
  {
   "cell_type": "code",
   "execution_count": 10,
   "outputs": [
    {
     "data": {
      "text/plain": "defaultdict(int,\n            {'Lora:wjqLeonardo:1': 1.5983742107650306e-16,\n             'controlNet': -9.27267522025469e-17,\n             'da Leonardo da vinci': -4.2246299051621827e-16,\n             'mona_lisa': -3.4398410046302765e-16,\n             'stableDiffusion-pruned-v-1-5': 0.0,\n             'stablydiffusedsMagnum__ v10': -2.62012633811537e-16})"
     },
     "execution_count": 10,
     "metadata": {},
     "output_type": "execute_result"
    }
   ],
   "source": [
    "### calculating the shapley value of the channel\n",
    "shapley_dict = calculate_shapley(data_lvl2, 'element', 'PFID')\n",
    "# shapley_dict = calculate_shapley(data_lvl2, 'element', 'PDHash')\n",
    "# shapley_dict = calculate_shapley(data_lvl2, 'element', 'PHistogram')\n",
    "# shapley_dict = calculate_shapley(data_lvl2, 'element', 'PCosin')\n",
    "shapley_dict\n",
    "# shapley_result = pd.DataFrame(list(shapley_dict.items()), columns=['channel', 'shapley_value'])\n",
    "# shapley_result"
   ],
   "metadata": {
    "collapsed": false,
    "ExecuteTime": {
     "end_time": "2023-12-06T08:30:22.730562300Z",
     "start_time": "2023-12-06T08:30:22.699360600Z"
    }
   }
  }
 ],
 "metadata": {
  "kernelspec": {
   "display_name": "Python 3 (ipykernel)",
   "language": "python",
   "name": "python3"
  },
  "language_info": {
   "codemirror_mode": {
    "name": "ipython",
    "version": 3
   },
   "file_extension": ".py",
   "mimetype": "text/x-python",
   "name": "python",
   "nbconvert_exporter": "python",
   "pygments_lexer": "ipython3",
   "version": "3.10.6"
  }
 },
 "nbformat": 4,
 "nbformat_minor": 4
}
